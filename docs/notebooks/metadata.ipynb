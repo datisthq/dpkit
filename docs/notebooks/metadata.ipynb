{
 "cells": [
  {
   "cell_type": "code",
   "execution_count": 1,
   "id": "9b5edd78-924f-4902-944f-b0ee2bed75bc",
   "metadata": {},
   "outputs": [],
   "source": [
    "import { validatePackageDescriptor } from \"dpkit\""
   ]
  },
  {
   "cell_type": "code",
   "execution_count": 6,
   "id": "64466fd7-adc7-4598-8e45-d6005c15db8b",
   "metadata": {},
   "outputs": [],
   "source": [
    "const { valid, errors } = await validatePackageDescriptor({\n",
    "  descriptor: { name: \"package\" },\n",
    "})"
   ]
  },
  {
   "cell_type": "code",
   "execution_count": 3,
   "id": "c2b3f2b1-eaa5-456c-b279-47bc0438b680",
   "metadata": {},
   "outputs": [
    {
     "name": "stdout",
     "output_type": "stream",
     "text": [
      "\u001b[33mfalse\u001b[39m\n"
     ]
    }
   ],
   "source": [
    "console.log(valid)"
   ]
  },
  {
   "cell_type": "code",
   "execution_count": 4,
   "id": "55dd1fe6-387a-43e7-9942-7f78dedb2306",
   "metadata": {},
   "outputs": [
    {
     "name": "stdout",
     "output_type": "stream",
     "text": [
      "[\n",
      "  {\n",
      "    instancePath: \u001b[32m\"\"\u001b[39m,\n",
      "    schemaPath: \u001b[32m\"#/required\"\u001b[39m,\n",
      "    keyword: \u001b[32m\"required\"\u001b[39m,\n",
      "    params: { missingProperty: \u001b[32m\"resources\"\u001b[39m },\n",
      "    message: \u001b[32m\"must have required property 'resources'\"\u001b[39m,\n",
      "    type: \u001b[32m\"descriptor\"\u001b[39m\n",
      "  }\n",
      "]\n"
     ]
    }
   ],
   "source": [
    "console.log(errors)"
   ]
  }
 ],
 "metadata": {
  "kernelspec": {
   "display_name": "Deno",
   "language": "typescript",
   "name": "deno"
  },
  "language_info": {
   "codemirror_mode": "typescript",
   "file_extension": ".ts",
   "mimetype": "text/x.typescript",
   "name": "typescript",
   "nbconvert_exporter": "script",
   "pygments_lexer": "typescript",
   "version": "5.8.3"
  }
 },
 "nbformat": 4,
 "nbformat_minor": 5
}
